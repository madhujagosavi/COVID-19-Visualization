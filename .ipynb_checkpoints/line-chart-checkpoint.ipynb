{
 "cells": [
  {
   "cell_type": "code",
   "execution_count": null,
   "metadata": {},
   "outputs": [],
   "source": [
    "!pip install dash==1.10.0\n",
    "!pip install dash dash-renderer dash-html-components dash-core-components plotly\n",
    "!pip install plotly\n",
    "!pip install dash-bootstrap-components"
   ]
  },
  {
   "cell_type": "code",
   "execution_count": 1,
   "metadata": {},
   "outputs": [],
   "source": [
    "# -*- coding: utf-8 -*-\n",
    "import pandas as pd\n",
    "import numpy as np\n",
    "from datetime import datetime, timedelta\n",
    "import math\n",
    "import os\n",
    "import base64\n",
    "import datetime\n",
    "\n",
    "import plotly.graph_objects as go\n",
    "from plotly.subplots import make_subplots\n",
    "import plotly.express as px\n",
    "\n",
    "import dash\n",
    "import dash_table\n",
    "import dash_core_components as dcc\n",
    "import dash_html_components as html\n",
    "import dash_bootstrap_components as dbc\n",
    "from dash.dependencies import Input, Output, State\n",
    "from dash.exceptions import PreventUpdate"
   ]
  },
  {
   "cell_type": "code",
   "execution_count": 2,
   "metadata": {},
   "outputs": [],
   "source": [
    "\n",
    "###################################\n",
    "# Private function\n",
    "###################################\n",
    "\n",
    "\n",
    "def load_data(file_name, column_name):\n",
    "    data = (\n",
    "        pd.read_csv(file_name,)\n",
    "        .melt(\n",
    "            id_vars=[\"Province/State\", \"Country/Region\", \"Lat\", \"Long\"],\n",
    "            var_name=\"date\",\n",
    "            value_name=column_name,\n",
    "        )\n",
    "        .astype({\"date\": \"str\", column_name: int}, errors=\"ignore\")\n",
    "    )\n",
    "    data[\"Province/State\"].fillna(\"<all>\", inplace=True)\n",
    "    data[column_name].fillna(0, inplace=True)\n",
    "    return data"
   ]
  },
  {
   "cell_type": "code",
   "execution_count": 3,
   "metadata": {},
   "outputs": [],
   "source": [
    "\n",
    "################################################################################\n",
    "# Data processing\n",
    "################################################################################\n",
    "\n",
    "# Data and files working with\n",
    "confirmed_cases = \"time_series_covid19_confirmed_global.csv\"\n",
    "confirmed_deaths = \"time_series_covid19_deaths_global.csv\"\n",
    "confirmed_recovered = \"time_series_covid19_recovered_global.csv\"\n",
    "\n",
    "# Merge data frames into one\n",
    "all_data = (\n",
    "    load_data(confirmed_cases, \"confirmed\")\n",
    "    .merge(load_data(confirmed_deaths, \"deaths\"))\n",
    "    .merge(load_data(confirmed_recovered, \"recovered\"))\n",
    ")\n",
    "\n",
    "countries = all_data[\"Country/Region\"].unique()\n",
    "countries.sort()"
   ]
  },
  {
   "cell_type": "code",
   "execution_count": 4,
   "metadata": {},
   "outputs": [],
   "source": [
    "options =[]\n",
    "for country in list(countries):\n",
    "    options.append({\"label\":country,\"value\":country})\n",
    "\n",
    "# print(options)\n",
    "\n",
    "all_data['date'] = pd.to_datetime(all_data['date'],errors='coerce')\n",
    "# print(all_data.dtypes)"
   ]
  },
  {
   "cell_type": "code",
   "execution_count": null,
   "metadata": {},
   "outputs": [],
   "source": []
  }
 ],
 "metadata": {
  "kernelspec": {
   "display_name": "Python 3",
   "language": "python",
   "name": "python3"
  },
  "language_info": {
   "codemirror_mode": {
    "name": "ipython",
    "version": 3
   },
   "file_extension": ".py",
   "mimetype": "text/x-python",
   "name": "python",
   "nbconvert_exporter": "python",
   "pygments_lexer": "ipython3",
   "version": "3.6.4"
  }
 },
 "nbformat": 4,
 "nbformat_minor": 2
}
