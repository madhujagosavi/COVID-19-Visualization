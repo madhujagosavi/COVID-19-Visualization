{
 "cells": [
  {
   "cell_type": "code",
   "execution_count": null,
   "metadata": {},
   "outputs": [],
   "source": [
    "!pip install dash==1.10.0"
   ]
  },
  {
   "cell_type": "code",
   "execution_count": null,
   "metadata": {},
   "outputs": [],
   "source": [
    "!pip install dash dash-renderer dash-html-components dash-core-components plotly"
   ]
  },
  {
   "cell_type": "code",
   "execution_count": null,
   "metadata": {},
   "outputs": [],
   "source": [
    "!pip install plotly"
   ]
  },
  {
   "cell_type": "code",
   "execution_count": null,
   "metadata": {},
   "outputs": [],
   "source": [
    "!pip install dash-bootstrap-components"
   ]
  },
  {
   "cell_type": "code",
   "execution_count": 1,
   "metadata": {},
   "outputs": [],
   "source": [
    "# -*- coding: utf-8 -*-\n",
    "import pandas as pd\n",
    "import numpy as np\n",
    "from datetime import datetime, timedelta\n",
    "import math\n",
    "import os\n",
    "import base64\n",
    "import datetime\n",
    "\n",
    "import plotly.graph_objects as go\n",
    "from plotly.subplots import make_subplots\n",
    "import plotly.express as px\n",
    "\n",
    "import dash\n",
    "import dash_table\n",
    "import dash_core_components as dcc\n",
    "import dash_html_components as html\n",
    "import dash_bootstrap_components as dbc\n",
    "from dash.dependencies import Input, Output, State\n",
    "from dash.exceptions import PreventUpdate\n",
    "import time"
   ]
  },
  {
   "cell_type": "code",
   "execution_count": 2,
   "metadata": {},
   "outputs": [],
   "source": [
    "\n",
    "###################################\n",
    "# Private function\n",
    "###################################\n",
    "\n",
    "\n",
    "def load_data(file_name, column_name):\n",
    "    data = (\n",
    "        pd.read_csv(file_name,)\n",
    "        .melt(\n",
    "            id_vars=[\"Province/State\", \"Country/Region\", \"Lat\", \"Long\"],\n",
    "            var_name=\"date\",\n",
    "            value_name=column_name,\n",
    "        )\n",
    "        .astype({\"date\": \"str\", column_name: int}, errors=\"ignore\")\n",
    "    )\n",
    "    data[\"Province/State\"].fillna(\"<all>\", inplace=True)\n",
    "    data[column_name].fillna(0, inplace=True)\n",
    "    return data\n",
    "# def loadData(fileName, columnName):\n",
    "#     data = pd.read_csv(fileName) \\\n",
    "#              .drop(['Lat', 'Long'], axis=1) \\\n",
    "#              .melt(id_vars=['Province/State', 'Country/Region'], \n",
    "#                  var_name='date', value_name=columnName) \\\n",
    "#              .astype({'date':'datetime64[ns]', columnName:'Int64'}, \n",
    "#                  errors='ignore')\n",
    "#     data['Province/State'].fillna('<all>', inplace=True)\n",
    "#     data[columnName].fillna(0, inplace=True)\n",
    "#     return data\n"
   ]
  },
  {
   "cell_type": "code",
   "execution_count": 3,
   "metadata": {},
   "outputs": [],
   "source": [
    "from datetime import datetime \n",
    "\n",
    "################################################################################\n",
    "# Data processing\n",
    "################################################################################\n",
    "\n",
    "# Data and files working with\n",
    "confirmed_cases = \"time_series_covid19_confirmed_global.csv\"\n",
    "confirmed_deaths = \"time_series_covid19_deaths_global.csv\"\n",
    "confirmed_recovered = \"time_series_covid19_recovered_global.csv\"\n",
    "\n",
    "# Merge data frames into one\n",
    "all_data = (\n",
    "    load_data(confirmed_cases, \"confirmed\")\n",
    "    .merge(load_data(confirmed_deaths, \"deaths\"))\n",
    "    .merge(load_data(confirmed_recovered, \"recovered\"))\n",
    ")\n",
    "\n",
    "countries = all_data[\"Country/Region\"].unique()\n",
    "countries.sort()\n",
    "all_data['date'] = pd.to_datetime(all_data['date'],errors='coerce')\n",
    "\n",
    "date_options = [date_obj.strftime('%Y-%m-%d') for date_obj in all_data[\"date\"].dt.date.unique()]\n",
    "#date_options.sort()\n",
    "date_options.sort(key = lambda date: datetime.strptime(date, '%Y-%m-%d')) \n",
    "\n",
    "all_data['date'] = all_data['date'].dt.strftime('%Y-%m-%d')\n",
    "#print(all_data['date'])\n",
    "# print(all_data)\n",
    "\n",
    "# # Save numbers into variables\n",
    "# latest_date = all_data[\"date\"].max()\n",
    "\n",
    "# # number of cases\n",
    "# confirmed_cases_sum = sum_data(all_data, latest_date, 0, \"confirmed\")\n",
    "# cases_day_before = sum_data(all_data, latest_date, -1, \"confirmed\")\n",
    "# cases_difference = confirmed_cases_sum - cases_day_before\n",
    "# cases_operand = \"+\" if cases_difference > 0 else \"-\"\n",
    "# cases_percent_change = round((cases_difference / cases_day_before) * 100, 2)\n",
    "\n",
    "# # number of deaths\n",
    "# confirmed_deaths_sum = sum_data(all_data, latest_date, 0, \"deaths\")\n",
    "# deaths_day_before = sum_data(all_data, latest_date, -1, \"deaths\")\n",
    "# deaths_difference = confirmed_deaths_sum - deaths_day_before\n",
    "# deaths_operand = \"+\" if deaths_difference > 0 else \"-\"\n",
    "# deaths_percent_change = round((deaths_difference / deaths_day_before) * 100, 2)\n",
    "\n",
    "\n",
    "# # number of recovered cases\n",
    "# confirmed_recovered_sum = sum_data(all_data, latest_date, 0, \"recovered\")\n",
    "# recovered_day_before = sum_data(all_data, latest_date, -1, \"recovered\")\n",
    "# recovered_difference = confirmed_recovered_sum - recovered_day_before\n",
    "# recovered_operand = \"+\" if recovered_difference > 0 else \"-\"\n",
    "# recovered_percent_change = round((recovered_difference / recovered_day_before) * 100, 2)\n",
    "\n",
    "\n",
    "# # number of active cases\n",
    "# confirmed_active_cases = (\n",
    "#     confirmed_cases_sum - confirmed_deaths_sum - confirmed_recovered_sum\n",
    "# )\n",
    "\n",
    "# # other key numbers\n",
    "# outbreak_beginning = datetime.date(2019, 12, 31)\n",
    "# days_since_outbreak = (datetime.date.today() - outbreak_beginning).days\n",
    "# incident_fatality_rate = round((confirmed_deaths_sum / confirmed_cases_sum) * 100, 2)\n",
    "# recovery_rate = round((confirmed_recovered_sum / confirmed_cases_sum) * 100, 2)\n",
    "\n",
    "# # infected countries\n",
    "# infected_countries = len(all_data[\"Country/Region\"].unique())"
   ]
  },
  {
   "cell_type": "code",
   "execution_count": 4,
   "metadata": {},
   "outputs": [
    {
     "name": "stdout",
     "output_type": "stream",
     "text": [
      "2020-01-22\n"
     ]
    }
   ],
   "source": [
    "print(all_data['date'].min())"
   ]
  },
  {
   "cell_type": "code",
   "execution_count": 5,
   "metadata": {},
   "outputs": [
    {
     "name": "stdout",
     "output_type": "stream",
     "text": [
      "['2020-01-22', '2020-01-23', '2020-01-24', '2020-01-25', '2020-01-26', '2020-01-27', '2020-01-28', '2020-01-29', '2020-01-30', '2020-01-31', '2020-02-01', '2020-02-02', '2020-02-03', '2020-02-04', '2020-02-05', '2020-02-06', '2020-02-07', '2020-02-08', '2020-02-09', '2020-02-10', '2020-02-11', '2020-02-12', '2020-02-13', '2020-02-14', '2020-02-15', '2020-02-16', '2020-02-17', '2020-02-18', '2020-02-19', '2020-02-20', '2020-02-21', '2020-02-22', '2020-02-23', '2020-02-24', '2020-02-25', '2020-02-26', '2020-02-27', '2020-02-28', '2020-02-29', '2020-03-01', '2020-03-02', '2020-03-03', '2020-03-04', '2020-03-05', '2020-03-06', '2020-03-07', '2020-03-08', '2020-03-09', '2020-03-10', '2020-03-11', '2020-03-12', '2020-03-13', '2020-03-14', '2020-03-15', '2020-03-16', '2020-03-17', '2020-03-18', '2020-03-19', '2020-03-20', '2020-03-21', '2020-03-22', '2020-03-23', '2020-03-24', '2020-03-25', '2020-03-26', '2020-03-27', '2020-03-28', '2020-03-29', '2020-03-30', '2020-03-31', '2020-04-01', '2020-04-02', '2020-04-03', '2020-04-04', '2020-04-05', '2020-04-06']\n"
     ]
    }
   ],
   "source": [
    "marks =[i for i in date_options]\n",
    "print(marks)"
   ]
  },
  {
   "cell_type": "code",
   "execution_count": 6,
   "metadata": {},
   "outputs": [],
   "source": [
    "options =[]\n",
    "for date in list(date_options):\n",
    "    options.append({\"label\":date,\"value\":date})\n",
    "\n",
    "# print(options)\n",
    "\n",
    "\n",
    "# print(all_data.dtypes)"
   ]
  },
  {
   "cell_type": "code",
   "execution_count": 7,
   "metadata": {},
   "outputs": [],
   "source": [
    "daterange = pd.date_range(start=all_data['date'].min(),end=all_data['date'].max(),freq='d')\n",
    "\n",
    "def unixTimeMillis(dt):\n",
    "    ''' Convert datetime to unix timestamp '''\n",
    "    return int(time.mktime(dt.timetuple()))\n",
    "\n",
    "def unixToDatetime(unix):\n",
    "    ''' Convert unix timestamp to datetime. '''\n",
    "    return pd.to_datetime(unix,unit='s')\n",
    "\n",
    "def getMarks(start, end):\n",
    "    ''' Returns the marks for labeling.\n",
    "    Every Nth value will be used.\n",
    "    '''\n",
    "\n",
    "    result = {}\n",
    "    for i, date in enumerate(daterange):\n",
    "#         print(date)\n",
    "        # Append value to dict\n",
    "        result[unixTimeMillis(date)] = str(date.strftime('%Y-%m-%d'))\n",
    "\n",
    "    return result"
   ]
  },
  {
   "cell_type": "code",
   "execution_count": 8,
   "metadata": {},
   "outputs": [
    {
     "name": "stdout",
     "output_type": "stream",
     "text": [
      "{1579680000: '2020-01-22', 1579766400: '2020-01-23', 1579852800: '2020-01-24', 1579939200: '2020-01-25', 1580025600: '2020-01-26', 1580112000: '2020-01-27', 1580198400: '2020-01-28', 1580284800: '2020-01-29', 1580371200: '2020-01-30', 1580457600: '2020-01-31', 1580544000: '2020-02-01', 1580630400: '2020-02-02', 1580716800: '2020-02-03', 1580803200: '2020-02-04', 1580889600: '2020-02-05', 1580976000: '2020-02-06', 1581062400: '2020-02-07', 1581148800: '2020-02-08', 1581235200: '2020-02-09', 1581321600: '2020-02-10', 1581408000: '2020-02-11', 1581494400: '2020-02-12', 1581580800: '2020-02-13', 1581667200: '2020-02-14', 1581753600: '2020-02-15', 1581840000: '2020-02-16', 1581926400: '2020-02-17', 1582012800: '2020-02-18', 1582099200: '2020-02-19', 1582185600: '2020-02-20', 1582272000: '2020-02-21', 1582358400: '2020-02-22', 1582444800: '2020-02-23', 1582531200: '2020-02-24', 1582617600: '2020-02-25', 1582704000: '2020-02-26', 1582790400: '2020-02-27', 1582876800: '2020-02-28', 1582963200: '2020-02-29', 1583049600: '2020-03-01', 1583136000: '2020-03-02', 1583222400: '2020-03-03', 1583308800: '2020-03-04', 1583395200: '2020-03-05', 1583481600: '2020-03-06', 1583568000: '2020-03-07', 1583654400: '2020-03-08', 1583737200: '2020-03-09', 1583823600: '2020-03-10', 1583910000: '2020-03-11', 1583996400: '2020-03-12', 1584082800: '2020-03-13', 1584169200: '2020-03-14', 1584255600: '2020-03-15', 1584342000: '2020-03-16', 1584428400: '2020-03-17', 1584514800: '2020-03-18', 1584601200: '2020-03-19', 1584687600: '2020-03-20', 1584774000: '2020-03-21', 1584860400: '2020-03-22', 1584946800: '2020-03-23', 1585033200: '2020-03-24', 1585119600: '2020-03-25', 1585206000: '2020-03-26', 1585292400: '2020-03-27', 1585378800: '2020-03-28', 1585465200: '2020-03-29', 1585551600: '2020-03-30', 1585638000: '2020-03-31', 1585724400: '2020-04-01', 1585810800: '2020-04-02', 1585897200: '2020-04-03', 1585983600: '2020-04-04', 1586070000: '2020-04-05', 1586156400: '2020-04-06'}\n"
     ]
    }
   ],
   "source": [
    "value = getMarks(daterange.min(),daterange.max())\n",
    "print(value)"
   ]
  },
  {
   "cell_type": "code",
   "execution_count": 9,
   "metadata": {},
   "outputs": [
    {
     "name": "stdout",
     "output_type": "stream",
     "text": [
      " * Serving Flask app \"__main__\" (lazy loading)\n",
      " * Environment: production\n",
      "   WARNING: This is a development server. Do not use it in a production deployment.\n",
      "   Use a production WSGI server instead.\n",
      " * Debug mode: off\n"
     ]
    },
    {
     "name": "stderr",
     "output_type": "stream",
     "text": [
      " * Running on http://127.0.0.1:8050/ (Press CTRL+C to quit)\n",
      "127.0.0.1 - - [19/Apr/2020 15:50:37] \"\u001b[37mGET / HTTP/1.1\u001b[0m\" 200 -\n",
      "127.0.0.1 - - [19/Apr/2020 15:50:38] \"\u001b[37mGET /_dash-layout HTTP/1.1\u001b[0m\" 200 -\n",
      "127.0.0.1 - - [19/Apr/2020 15:50:38] \"\u001b[37mGET /_dash-dependencies HTTP/1.1\u001b[0m\" 200 -\n",
      "127.0.0.1 - - [19/Apr/2020 15:50:38] \"\u001b[37mPOST /_dash-update-component HTTP/1.1\u001b[0m\" 200 -\n"
     ]
    }
   ],
   "source": [
    "# data = [trace_line,trace_line2]\n",
    "# # print(data)\n",
    "\n",
    "# layout = dict(title=\"COVID\",\n",
    "#               showlegend=False)\n",
    "# fig = dict(data = data, layout = layout)\n",
    "from dateutil.relativedelta import relativedelta\n",
    "\n",
    "\n",
    "\n",
    "app = dash.Dash()\n",
    "app.layout = html.Div([\n",
    "    html.Div(html.H1(children=\"COVID-19 Analysis\")),\n",
    "\n",
    "    \n",
    "    html.Div(\n",
    "    html.Label([dcc.RangeSlider(id = \"date-slider\", min = unixTimeMillis(daterange.min()),max = unixTimeMillis(daterange.max()),value = [unixTimeMillis(daterange.min()),unixTimeMillis(daterange.max())],marks=getMarks(daterange.min(),daterange.max())\n",
    "                )])\n",
    "              ),\n",
    "#     html.Label([dcc.RangeSlider(\n",
    "#             id = 'date-slider',\n",
    "#             updatemode = 'mouseup', #don't let it update till mouse released\n",
    "#             min = all_data['date'].min(),\n",
    "#             max = all_data['date'].max(),\n",
    "#             value = [all_data['date'].max()],\n",
    "#             #TODO add markers for key dates\n",
    "#             marks=get_marks_from_start_end(all_data['date'].min(),\n",
    "#                                            all_data['date'].max()),\n",
    "#         )]\n",
    "#         ),\n",
    "    \n",
    "    html.Div(\n",
    "        dcc.Graph(id=\"date_covid\"\n",
    "             ),\n",
    "            style = {'overflowX':'scroll'}\n",
    "        )\n",
    "\n",
    "],style= {\n",
    "                      \"color\": \"black\",\n",
    "                      \"text-align\": \"center\",\"background-color\": \"yellow\",\n",
    "                      \"border-style\": \"Bold\",\"display\":\"inline-block\",\"width\":\"100%\",\n",
    "                      })\n",
    "\n",
    "@app.callback(\n",
    "    dash.dependencies.Output(\"date_covid\",\"figure\"),\n",
    "    [dash.dependencies.Input(\"date-slider\",\"value\")],\n",
    ")\n",
    "def update_fig(input_value):\n",
    "    return 'From {} to {}'.format(unixToDatetime(input_value[0]),unixToDatetime(input_value[1]))\n",
    "#     date_all_data = all_data[all_data['date']==input_value]\n",
    "#     #print(date_all_data)\n",
    "#     date_all_data=date_all_data.drop('Province/State', axis=1).groupby(\"Country/Region\").sum().reset_index()\n",
    "# #     data_fig_deaths=[]\n",
    "#     trace_line1 = go.Bar(x=countries,\n",
    "#                             y=list(date_all_data[\"deaths\"]),\n",
    "#                             name=\"Death\",\n",
    "#                             showlegend=False)\n",
    "#     trace_line2 = go.Bar(x=countries,\n",
    "#                             y=list(date_all_data[\"confirmed\"]),\n",
    "#                             name=\"Confirmed\",\n",
    "#                             showlegend=False)\n",
    "#     trace_line3 = go.Bar(x=countries,\n",
    "#                             y=list(date_all_data[\"recovered\"]),\n",
    "#                             name=\"Recovered\",\n",
    "#                             showlegend=False)\n",
    "    \n",
    "    \n",
    "#     return {\n",
    "#         \"data\":[trace_line1,trace_line2,trace_line3],\n",
    "#         \"layout\":\n",
    "#         go.Layout(\n",
    "#             title='Datewise count',\n",
    "#             barmode = 'stack')\n",
    "#     }\n",
    "    \n",
    "\n",
    "if __name__==\"__main__\":\n",
    "    app.run_server(debug=False)"
   ]
  },
  {
   "cell_type": "code",
   "execution_count": null,
   "metadata": {},
   "outputs": [],
   "source": []
  }
 ],
 "metadata": {
  "kernelspec": {
   "display_name": "Python 3",
   "language": "python",
   "name": "python3"
  },
  "language_info": {
   "codemirror_mode": {
    "name": "ipython",
    "version": 3
   },
   "file_extension": ".py",
   "mimetype": "text/x-python",
   "name": "python",
   "nbconvert_exporter": "python",
   "pygments_lexer": "ipython3",
   "version": "3.6.4"
  }
 },
 "nbformat": 4,
 "nbformat_minor": 2
}
